{
 "cells": [
  {
   "cell_type": "markdown",
   "id": "55a3f83a",
   "metadata": {},
   "source": [
    "# Documentation for the Code Challenges using TiddlyWiki"
   ]
  },
  {
   "cell_type": "markdown",
   "id": "1a2fa3cb",
   "metadata": {},
   "source": [
    "The notebook aims to convert code solutions into comprehensive documentation stored on a TiddlyWiki-powered webpage. Each solution becomes a dedicated 'tiddler,' providing self-contained implementation details. The seamless integration of these tiddlers enriches TiddlyWiki, offering readers a valuable resource to explore and learn solution concepts conveniently. The TiddlyWiki-based documentation becomes an accessible and informative reference for enthusiasts and learners alike.\n",
    "\n",
    "Access the final product created by this notebook at the following link: [Link]."
   ]
  },
  {
   "cell_type": "markdown",
   "id": "933e2642",
   "metadata": {},
   "source": [
    "![A clever cat stands attentively at the library, engrossed in reading through code documentation.](./code_illustration/tiddlywiki_docs.jpg)"
   ]
  },
  {
   "cell_type": "markdown",
   "id": "a050b372",
   "metadata": {},
   "source": [
    "# Leveraging TiddlyWiki for Enhanced Documentation"
   ]
  },
  {
   "cell_type": "markdown",
   "id": "30a8e1c5",
   "metadata": {},
   "source": [
    "This project utilizes TiddlyWiki, a unique non-linear note-taking and personal wiki software. It enables efficient information organization in an interconnected and adaptable manner. Unlike traditional wikis, TiddlyWiki operates as a self-contained application within a web browser, using a single HTML file with JavaScript code.\n",
    "\n",
    "The project leverages TiddlyWiki's flexibility to document code generated in the notebook \"Automated Solutions for the Challenges.\" By doing so, it provides a powerful tool for effective information organization and knowledge management support."
   ]
  },
  {
   "cell_type": "markdown",
   "id": "a01b0669",
   "metadata": {},
   "source": [
    "## Accessing the Encrypted File to Obtain the API Ke"
   ]
  },
  {
   "cell_type": "code",
   "execution_count": null,
   "id": "785a56e3",
   "metadata": {},
   "outputs": [],
   "source": [
    "import os\n",
    "import pandas as pd\n",
    "import openai\n",
    "import getpass\n",
    "import base64\n",
    "import time\n",
    "from cryptography.fernet import Fernet\n",
    "from cryptography.hazmat.primitives import hashes\n",
    "from cryptography.hazmat.primitives.kdf.pbkdf2 import PBKDF2HMAC\n",
    "from cryptography.hazmat.backends import default_backend"
   ]
  },
  {
   "cell_type": "code",
   "execution_count": null,
   "id": "1296c39e",
   "metadata": {},
   "outputs": [],
   "source": [
    "def generate_salt():\n",
    "    return os.urandom(16)\n",
    "\n",
    "def generate_fernet_key(password, salt):\n",
    "    password = password.encode()\n",
    "    kdf = PBKDF2HMAC(\n",
    "        algorithm=hashes.SHA256(),\n",
    "        length=32,\n",
    "        salt=salt,\n",
    "        iterations=100000,\n",
    "        backend=default_backend()\n",
    "    )\n",
    "    key = base64.urlsafe_b64encode(kdf.derive(password))\n",
    "    return key\n",
    "\n",
    "def get_decrypted_api_key(password):\n",
    "    try:\n",
    "        with open(\"api_key.enc\", \"rb\") as file:\n",
    "            encrypted_api_key = file.read()\n",
    "\n",
    "        with open(\"salt.bin\", \"rb\") as file:\n",
    "            salt = file.read()\n",
    "\n",
    "        # Derive the Fernet key from the password and base64-decode the salt\n",
    "        key = generate_fernet_key(password, salt)\n",
    "\n",
    "        cipher_suite = Fernet(key)\n",
    "        decrypted_api_key = cipher_suite.decrypt(encrypted_api_key).decode()\n",
    "\n",
    "        return decrypted_api_key\n",
    "    except FileNotFoundError:\n",
    "        print(\"API key file not found.\")\n",
    "        return None\n",
    "    except Exception as e:\n",
    "        print(\"Error occurred while decrypting the API key:\", str(e))\n",
    "        return None\n",
    "\n",
    "# Prompt user for the password again to decrypt the API key\n",
    "password_for_decryption = getpass.getpass(\"Enter your password to decrypt the API key: \")\n",
    "\n",
    "# Retrieve and decrypt the API key\n",
    "openai.api_key = get_decrypted_api_key(password_for_decryption)"
   ]
  },
  {
   "cell_type": "markdown",
   "id": "cda8e44c",
   "metadata": {},
   "source": [
    "## Creating TiddlyWiki Files with Challenge Descriptions"
   ]
  },
  {
   "cell_type": "code",
   "execution_count": null,
   "id": "0ad3221a",
   "metadata": {},
   "outputs": [],
   "source": [
    "df = pd.read_csv('code_challenge.csv', delimiter=';', encoding='latin') \n",
    "\n",
    "# Drop index column\n",
    "df = df.reset_index(drop=True) \n",
    "\n",
    "beginner_df = df.loc[df['difficulty'] == 'Beginner']\n",
    "beginner_df.head()"
   ]
  },
  {
   "cell_type": "code",
   "execution_count": null,
   "id": "c7ea3f7a",
   "metadata": {},
   "outputs": [],
   "source": [
    "def generate_problem_enunciation(problem_parameter):\n",
    "    response = openai.Completion.create(\n",
    "        engine=\"text-davinci-002\",\n",
    "        prompt=f\"Elaborate what is {problem_parameter}  describing it as a problem enunciation.\",\n",
    "        max_tokens=333,\n",
    "        n=1\n",
    "    )\n",
    "    return response.choices[0].text.strip()\n",
    "\n",
    "def generate_challenge_tiddlers(tiddlywiki_folder, dataframe):\n",
    "    \n",
    "    programming_languages = ['Python', 'JavaScript', 'Java', 'C#', 'C++']\n",
    "    \n",
    "    if not os.path.exists(tiddlywiki_folder):\n",
    "        os.makedirs(tiddlywiki_folder)\n",
    "\n",
    "    for index, row in dataframe.iterrows():\n",
    "        problem_id = row['id']\n",
    "        problem_title = row['name']\n",
    "        difficulty = row['difficulty']\n",
    "        category = row['category']\n",
    "        problem_parameter = f' {problem_title} ({category})'\n",
    "        problem_enunciation = generate_problem_enunciation(problem_parameter)\n",
    "        \n",
    "        tiddler_title = f'{problem_id} {problem_title}'\n",
    "        tiddler_header = f\"tags: [[{difficulty}]] [[{category}]] \\ntitle: {tiddler_title}\\n\\n\"\n",
    "        tiddler_enunciation = f\"{problem_enunciation}\\n\\n\"\n",
    "        tiddler_solution = '__Code Solutions__\\n\\n'\n",
    "        for language in programming_languages:\n",
    "            tiddler_solution = tiddler_solution + f\"\\n* [[{tiddler_title} - {language}]]\"\n",
    "        tiddler_content = tiddler_header + tiddler_enunciation + tiddler_solution\n",
    "        \n",
    "        \n",
    "        tiddler_filename = f\"{tiddler_title}.tid\" \n",
    "        tiddler_path = os.path.join(tiddlywiki_folder, tiddler_filename)\n",
    "\n",
    "        with open(tiddler_path, 'w') as tiddler_file:\n",
    "            tiddler_file.write(tiddler_content)\n",
    "        time.sleep(23)\n",
    "\n",
    "    print(\"TiddlyWiki tiddler files generated successfully!\")\n",
    "\n",
    "current_path = os.getcwd()\n",
    "tiddlywiki_folder = os.path.join(current_path, \"code_challenge_documentation\", \"tiddlywiki\")\n",
    "generate_challenge_tiddlers(tiddlywiki_folder, beginner_df)\n"
   ]
  },
  {
   "cell_type": "markdown",
   "id": "4e388125",
   "metadata": {},
   "source": [
    "## Transforming Python Code into TiddlyWiki Files"
   ]
  },
  {
   "cell_type": "code",
   "execution_count": null,
   "id": "93050094",
   "metadata": {},
   "outputs": [],
   "source": [
    "def generate_tiddlers(python_folder_path, tiddlywiki_folder):\n",
    "    \n",
    "    if not os.path.exists(tiddlywiki_folder):\n",
    "        os.makedirs(tiddlywiki_folder)\n",
    "    \n",
    "    for filename in os.listdir(python_folder_path):\n",
    "        if filename.endswith(\".py\"):\n",
    "            with open(os.path.join(python_folder_path, filename), 'r') as python_file:\n",
    "                content = python_file.read()\n",
    "            tiddler_content = f\"```Python\\n{content}\\n```\"\n",
    "            tiddler_filename = os.path.splitext(filename)[0] + \".tid\"\n",
    "            tiddler_path = os.path.join(tiddlywiki_folder, tiddler_filename)\n",
    "            \n",
    "            with open(tiddler_path, 'w') as tiddler_file:\n",
    "                tiddler_file.write(tiddler_content)\n",
    "    print(\"TiddlyWiki tiddler files generated successfully!\")\n",
    "\n",
    "current_path = os.getcwd()\n",
    "python_folder_path = os.path.join(current_path, \"code_challenge_solution\", \"python\")\n",
    "tiddlywiki_folder = os.path.join(current_path, \"code_challenge_documentation\", \"python\")\n",
    "generate_tiddlers(python_folder_path, tiddlywiki_folder)\n"
   ]
  },
  {
   "cell_type": "markdown",
   "id": "6653dd35",
   "metadata": {},
   "source": [
    "## Transforming JavaScript Code into TiddlyWiki Files"
   ]
  },
  {
   "cell_type": "markdown",
   "id": "e67bcc28",
   "metadata": {},
   "source": [
    "## Transforming Java Code into TiddlyWiki Files"
   ]
  },
  {
   "cell_type": "markdown",
   "id": "b944a1ea",
   "metadata": {},
   "source": [
    "## Transforming C# Code into TiddlyWiki Files"
   ]
  },
  {
   "cell_type": "markdown",
   "id": "4952750e",
   "metadata": {},
   "source": [
    "## Transforming C++ Code into TiddlyWiki Files"
   ]
  }
 ],
 "metadata": {
  "kernelspec": {
   "display_name": "Python 3 (ipykernel)",
   "language": "python",
   "name": "python3"
  },
  "language_info": {
   "codemirror_mode": {
    "name": "ipython",
    "version": 3
   },
   "file_extension": ".py",
   "mimetype": "text/x-python",
   "name": "python",
   "nbconvert_exporter": "python",
   "pygments_lexer": "ipython3",
   "version": "3.10.9"
  }
 },
 "nbformat": 4,
 "nbformat_minor": 5
}
