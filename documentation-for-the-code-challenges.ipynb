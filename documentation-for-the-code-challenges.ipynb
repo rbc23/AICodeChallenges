{
 "cells": [
  {
   "cell_type": "markdown",
   "id": "55a3f83a",
   "metadata": {},
   "source": [
    "# Documentation for the Code Challenges using TiddlyWiki"
   ]
  },
  {
   "cell_type": "markdown",
   "id": "1a2fa3cb",
   "metadata": {},
   "source": [
    "The notebook aims to convert code solutions into comprehensive documentation stored on a TiddlyWiki-powered webpage. Each solution becomes a dedicated 'tiddler,' providing self-contained implementation details. The seamless integration of these tiddlers enriches TiddlyWiki, offering readers a valuable resource to explore and learn solution concepts conveniently. The TiddlyWiki-based documentation becomes an accessible and informative reference for enthusiasts and learners alike.\n",
    "\n",
    "**The link to the final wiki containing the documentation can be found [here](https://ai-code-challenge.tiddlyhost.com/).**"
   ]
  },
  {
   "cell_type": "markdown",
   "id": "933e2642",
   "metadata": {},
   "source": [
    "![A clever cat stands attentively at the library, engrossed in reading through code documentation.](./code_illustration/tiddlywiki_docs.jpg)"
   ]
  },
  {
   "cell_type": "markdown",
   "id": "a050b372",
   "metadata": {},
   "source": [
    "# Leveraging TiddlyWiki for Enhanced Documentation"
   ]
  },
  {
   "cell_type": "markdown",
   "id": "30a8e1c5",
   "metadata": {},
   "source": [
    "This project utilizes TiddlyWiki, a unique non-linear note-taking and personal wiki software. It enables efficient information organization in an interconnected and adaptable manner. Unlike traditional wikis, TiddlyWiki operates as a self-contained application within a web browser, using a single HTML file with JavaScript code.\n",
    "\n",
    "The project leverages TiddlyWiki's flexibility to document code generated in the notebook \"Automated Solutions for the Challenges.\" By doing so, it provides a powerful tool for effective information organization and knowledge management support."
   ]
  },
  {
   "cell_type": "markdown",
   "id": "a01b0669",
   "metadata": {},
   "source": [
    "## Accessing the Encrypted File to Obtain the API Key"
   ]
  },
  {
   "cell_type": "code",
   "execution_count": null,
   "id": "1296c39e",
   "metadata": {},
   "outputs": [],
   "source": [
    "%run \"secure-api-key-encryption-and-retrieval.ipynb\"\n",
    "password_for_decryption = getpass.getpass(\"Enter your password to decrypt the API key: \")\n",
    "openai.api_key = get_decrypted_api_key(password_for_decryption)"
   ]
  },
  {
   "cell_type": "markdown",
   "id": "cda8e44c",
   "metadata": {},
   "source": [
    "## Creating TiddlyWiki Files with Challenge Descriptions"
   ]
  },
  {
   "cell_type": "code",
   "execution_count": null,
   "id": "0ad3221a",
   "metadata": {},
   "outputs": [],
   "source": [
    "df = pd.read_csv('code_challenge.csv', delimiter=';', encoding='latin') \n",
    "\n",
    "# Drop index column\n",
    "df = df.reset_index(drop=True) \n",
    "\n",
    "beginner_df = df.loc[df['difficulty'] == 'Beginner']\n",
    "beginner_df.head()"
   ]
  },
  {
   "cell_type": "code",
   "execution_count": null,
   "id": "c7ea3f7a",
   "metadata": {},
   "outputs": [],
   "source": [
    "def generate_problem_enunciation(problem_parameter):\n",
    "    response = openai.Completion.create(\n",
    "        engine=\"text-davinci-002\",\n",
    "        prompt=f\"Elaborate what is {problem_parameter}  describing it as a problem enunciation.\",\n",
    "        max_tokens=333,\n",
    "        n=1\n",
    "    )\n",
    "    return response.choices[0].text.strip()\n",
    "\n",
    "def generate_challenge_tiddlers(tiddlywiki_folder, dataframe):\n",
    "    \n",
    "    programming_languages = ['Python', 'JavaScript', 'Java', 'C#', 'C++']\n",
    "    \n",
    "    if not os.path.exists(tiddlywiki_folder):\n",
    "        os.makedirs(tiddlywiki_folder)\n",
    "\n",
    "    for index, row in dataframe.iterrows():\n",
    "        problem_id = '{:03d}'.format(row['id'])\\n\",\n",
    "        problem_title = row['name']\n",
    "        difficulty = row['difficulty']\n",
    "        category = row['category']\n",
    "        problem_parameter = f' {problem_title} ({category})'\n",
    "        problem_enunciation = generate_problem_enunciation(problem_parameter)\n",
    "        \n",
    "        tiddler_title = f'{problem_id} {problem_title}'\n",
    "        tiddler_header = f\"tags: [[{difficulty}]] [[{category}]] \\ntitle: {tiddler_title}\\n\\n\"\n",
    "        tiddler_enunciation = f\"{problem_enunciation}\\n\\n\"\n",
    "        tiddler_solution = '__Code Solutions__\\n\\n'\n",
    "        for language in programming_languages:\n",
    "            tiddler_solution = tiddler_solution + f\"\\n* [[{tiddler_title} - {language}]]\"\n",
    "        tiddler_content = tiddler_header + tiddler_enunciation + tiddler_solution\n",
    "        \n",
    "        \n",
    "        tiddler_filename = f\"{tiddler_title}.tid\" \n",
    "        tiddler_path = os.path.join(tiddlywiki_folder, tiddler_filename)\n",
    "\n",
    "        with open(tiddler_path, 'w') as tiddler_file:\n",
    "            tiddler_file.write(tiddler_content)\n",
    "        time.sleep(23)\n",
    "\n",
    "    print(\"TiddlyWiki tiddler files generated successfully!\")\n",
    "\n",
    "current_path = os.getcwd()\n",
    "tiddlywiki_folder = os.path.join(current_path, \"code_challenge_documentation\", \"tiddlywiki\")\n",
    "generate_challenge_tiddlers(tiddlywiki_folder, beginner_df)\n"
   ]
  },
  {
   "cell_type": "markdown",
   "id": "4e388125",
   "metadata": {},
   "source": [
    "## Transforming Code into TiddlyWiki Files"
   ]
  },
  {
   "cell_type": "code",
   "execution_count": null,
   "id": "93050094",
   "metadata": {},
   "outputs": [],
   "source": [
    "def generate_tiddlers(folder_path, language, tiddlywiki_folder):\n",
    "    \n",
    "    if not os.path.exists(tiddlywiki_folder):\n",
    "        os.makedirs(tiddlywiki_folder)\n",
    "    \n",
    "    file_extension_map = {\n",
    "        \"python\": \".py\",\n",
    "        \"java\": \".java\",\n",
    "        \"javascript\": \".js\",\n",
    "        \"c++\": \".cpp\",\n",
    "        \"c#\": \".cs\"\n",
    "    }\n",
    "\n",
    "    code_block_map = {\n",
    "        \"python\": \"Python\",\n",
    "        \"java\": \"Java\",\n",
    "        \"javascript\": \"JavaScript\",\n",
    "        \"c++\": \"C++\",\n",
    "        \"c#\": \"C#\"\n",
    "    }\n",
    "\n",
    "    for filename in os.listdir(folder_path):\n",
    "        if filename.endswith(file_extension_map[language]):\n",
    "            with open(os.path.join(folder_path, filename), 'r') as file:\n",
    "                content = file.read()\n",
    "\n",
    "            tiddler_title = f'title:{filename} - {code_block_map[language]}\\n'.replace(file_extension_map[language], '')\n",
    "            tiddler_tag = f\"tags: {code_block_map[language]}\\n\"\n",
    "            content = content.replace(f\"```{code_block_map[language]}\", '').replace(\"```\", '')\n",
    "            tiddler_content = f\"{tiddler_title}{tiddler_tag}\\n```{code_block_map[language]}\\n{content}\\n```\"\n",
    "            tiddler_filename = os.path.splitext(filename)[0] + f\" - {code_block_map[language]}.tid\"\n",
    "            tiddler_path = os.path.join(tiddlywiki_folder, tiddler_filename)\n",
    "            \n",
    "            with open(tiddler_path, 'w') as tiddler_file:\n",
    "                tiddler_file.write(tiddler_content)\n",
    "    print(f\"TiddlyWiki tiddler files for {language} generated successfully!\")\n",
    "\n",
    "current_path = os.getcwd()\n",
    "languages = [\"python\", \"java\", \"javascript\", \"c++\", \"c#\"]\n",
    "\n",
    "for lang in languages:\n",
    "    folder_path = os.path.join(current_path, \"code_challenge_solution\", lang)\n",
    "    tiddlywiki_folder = os.path.join(current_path, \"code_challenge_documentation\", lang)\n",
    "    generate_tiddlers(folder_path, lang, tiddlywiki_folder)\n"
   ]
  }
 ],
 "metadata": {
  "kernelspec": {
   "display_name": "Python 3 (ipykernel)",
   "language": "python",
   "name": "python3"
  },
  "language_info": {
   "codemirror_mode": {
    "name": "ipython",
    "version": 3
   },
   "file_extension": ".py",
   "mimetype": "text/x-python",
   "name": "python",
   "nbconvert_exporter": "python",
   "pygments_lexer": "ipython3",
   "version": "3.11.4"
  }
 },
 "nbformat": 4,
 "nbformat_minor": 5
}
