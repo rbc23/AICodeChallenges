{
 "cells": [
  {
   "cell_type": "markdown",
   "id": "8bd38233",
   "metadata": {},
   "source": [
    "# Automated Solutions for the Challenges"
   ]
  },
  {
   "cell_type": "markdown",
   "id": "1e427199",
   "metadata": {},
   "source": [
    "The main goal of this notebook is to offer automatic solutions for the challenges listed in the \"code_challenge.csv\" file. These solutions will be generated automatically using five different programming languages, showcasing their versatility and applicability. Additionally, the notebook will leverage ChatGPT, an AI language model, to aid in the generation of these automatic solutions.\n",
    "\n",
    "By combining the power of multiple programming languages and the capabilities of ChatGPT, the notebook aims to streamline the process of providing code solutions for a diverse range of challenges. \n",
    "\n",
    "Overall, the notebook seeks to demonstrate the potential of using AI in conjunction with various programming languages to automate code generation for a wide array of challenges, fostering efficiency and innovation in the programming community."
   ]
  },
  {
   "cell_type": "markdown",
   "id": "c60f6f96",
   "metadata": {},
   "source": [
    "![Amidst the branches of the tree of knowledge, a python stands gracefully, savoring a cup of coffee](./code_illustration/python_java.jpg)"
   ]
  },
  {
   "cell_type": "markdown",
   "id": "024db60f",
   "metadata": {},
   "source": [
    "## Top Five Versatile Programming Languages"
   ]
  },
  {
   "cell_type": "markdown",
   "id": "c1226a47",
   "metadata": {},
   "source": [
    "Here are the top 5 most versatile programming languages:\n",
    "\n",
    "1. Python - Python is one of the most popular and versatile languages used today. It's easy to learn and can be used for a wide range of applications like web development, data analysis, artificial intelligence, scientific computing, and more.\n",
    "\n",
    "2. JavaScript - JavaScript is the language of the web. It powers dynamic web pages and web applications and can also be used for game development, mobile apps, servers, IoT devices and more. \n",
    "\n",
    "3. Java - Java is a widely used object-oriented language suitable for a variety of applications like web servers, Big Data analysis, enterprise applications and Android app development. Its portability across platforms is a big plus.\n",
    "\n",
    "4. C# - C# works across multiple platforms like Windows, mobile, and web. It is used for desktop apps, mobile apps, web apps, web services, games, VR, databases, and enterprise software. \n",
    "\n",
    "5. C++ - C++ is a high-performance language used to build systems, drivers, games engines, desktop apps and also has applications in embedded systems. It offers direct hardware manipulation and is highly efficient.\n",
    "\n",
    "Other versatile options are C, Go, Swift, Kotlin, PHP, and Rust but Python, JavaScript, Java, C# and C++ cover the broadest range of application domains and are most widely used in the industry. Their popularity, vast ecosystems and support make them a great choice."
   ]
  },
  {
   "cell_type": "markdown",
   "id": "093e3fa3",
   "metadata": {},
   "source": [
    "##  Loading, Preprocessing, and Displaying CSV Data"
   ]
  },
  {
   "cell_type": "code",
   "execution_count": null,
   "id": "222235de",
   "metadata": {},
   "outputs": [],
   "source": [
    "import pandas as pd\n",
    "from cryptography.fernet import Fernet\n",
    "import os\n",
    "import getpass\n",
    "from cryptography.fernet import Fernet\n",
    "from cryptography.hazmat.primitives import hashes\n",
    "from cryptography.hazmat.primitives.kdf.pbkdf2 import PBKDF2HMAC\n",
    "from cryptography.hazmat.backends import default_backend\n",
    "import os\n",
    "import getpass\n",
    "import base64\n",
    "import requests\n",
    "import openai\n",
    "import time"
   ]
  },
  {
   "cell_type": "code",
   "execution_count": null,
   "id": "49673bbd",
   "metadata": {},
   "outputs": [],
   "source": [
    "df = pd.read_csv('code_challenge.csv', delimiter=';', encoding='latin') \n",
    "\n",
    "# Drop index column\n",
    "df = df.reset_index(drop=True) \n",
    "\n",
    "# Display dataframe again\n",
    "display(df)"
   ]
  },
  {
   "cell_type": "markdown",
   "id": "aa520f8f",
   "metadata": {},
   "source": [
    "## Filtering for Beginner-Level Challenges"
   ]
  },
  {
   "cell_type": "code",
   "execution_count": null,
   "id": "df455e05",
   "metadata": {},
   "outputs": [],
   "source": [
    "beginner_df = df.loc[df['difficulty'] == 'Beginner']\n",
    "len(beginner_df)"
   ]
  },
  {
   "cell_type": "markdown",
   "id": "60be7429",
   "metadata": {},
   "source": [
    "## Accessing the Encrypted File to Obtain the API Key"
   ]
  },
  {
   "cell_type": "code",
   "execution_count": null,
   "id": "42bde4c4",
   "metadata": {},
   "outputs": [],
   "source": [
    "%run \"secure-api-key-encryption-and-retrieval.ipynb\"\n",
    "password_for_decryption = getpass.getpass(\"Enter your password to decrypt the API key: \")\n",
    "api_key = get_decrypted_api_key(password_for_decryption)"
   ]
  },
  {
   "cell_type": "markdown",
   "id": "01831417",
   "metadata": {},
   "source": [
    "## Generating Solutions for Code Challenges Using ChatGPT"
   ]
  },
  {
   "cell_type": "code",
   "execution_count": null,
   "id": "b06233b1",
   "metadata": {},
   "outputs": [],
   "source": [
    "def generate_code(prompt, api_key, language):\n",
    "    api_url = \"https://api.openai.com/v1/chat/completions\"\n",
    "\n",
    "    headers = {\n",
    "        \"Content-Type\": \"application/json\",\n",
    "        \"Authorization\": f\"Bearer {api_key}\"\n",
    "    }\n",
    "\n",
    "    lang_map = {\n",
    "        \"python\": \"python programmer\",\n",
    "        \"java\": \"java developer\",\n",
    "        \"javascript\": \"javascript developer\",\n",
    "        \"c++\": \"C++ developer\",\n",
    "        \"c#\": \"C# developer\"\n",
    "    }\n",
    "\n",
    "    data = {\n",
    "        \"model\": \"gpt-3.5-turbo\",\n",
    "        \"messages\": [\n",
    "            {\"role\": \"system\", \"content\": f\"You are a {lang_map[language]}. Write a {language} program to create a {prompt}. Generate only the {language} code without any additional comments.\"},\n",
    "            {\"role\": \"user\", \"content\": prompt}\n",
    "        ]\n",
    "    }\n",
    "\n",
    "    response = requests.post(api_url, headers=headers, json=data)\n",
    "\n",
    "    if response.status_code == 200:\n",
    "        return response.json()[\"choices\"][0][\"message\"][\"content\"]\n",
    "    else:\n",
    "        print(f\"Request failed with status code: {response.status_code}\")\n",
    "        return None\n",
    "\n",
    "def create_file(save_path, file_name, code_string, language):\n",
    "    ext_map = {\n",
    "        \"python\": \".py\",\n",
    "        \"java\": \".java\",\n",
    "        \"javascript\": \".js\",\n",
    "        \"c++\": \".cpp\",\n",
    "        \"c#\": \".cs\"\n",
    "    }\n",
    "\n",
    "    try:\n",
    "        file_path = os.path.join(save_path, \"code_challenge_solution\", language, file_name + ext_map[language])\n",
    "        os.makedirs(os.path.dirname(file_path), exist_ok=True)\n",
    "\n",
    "        with open(file_path, \"w\",  encoding=\"utf-8\") as file:\n",
    "            file.write(code_string)\n",
    "        print(f\"{language.capitalize()} file '{file_name + ext_map[language]}' created successfully.\")\n",
    "    except Exception as e:\n",
    "        print(f\"An error occurred while creating the file: {file_name + ext_map[language]}\", str(e))\n",
    "\n",
    "current_path = os.getcwd()\n",
    "languages = [\"python\", \"java\", \"javascript\", \"c++\", \"c#\"]\n",
    "\n",
    "for index, row in beginner_df.iterrows():\n",
    "    id_val = row['id']\n",
    "    name_val = row['name']\n",
    "    description_val = row['description']\n",
    "    difficulty_val = row['difficulty']\n",
    "    \n",
    "    code_challenge_row = name_val + ' ' + description_val\n",
    "\n",
    "    ext_map = {\n",
    "        \"python\": \".py\",\n",
    "        \"java\": \".java\",\n",
    "        \"javascript\": \".js\",\n",
    "        \"c++\": \".cpp\",\n",
    "        \"c#\": \".cs\"\n",
    "    }\n",
    "\n",
    "    for lang in languages:\n",
    "        file_name = f\"{id_val} {name_val}\"\n",
    "        file_path = os.path.join(current_path, \"code_challenge_solution\", lang, file_name + ext_map[lang])\n",
    "\n",
    "        if os.path.exists(file_path):\n",
    "            print(f\"{lang.capitalize()} file '{file_name + ext_map[lang]}' already exists.\")\n",
    "            continue\n",
    "\n",
    "        code_string = generate_code(code_challenge_row, api_key, lang)\n",
    "        create_file(current_path, file_name, code_string, lang)\n",
    "        time.sleep(23)\n"
   ]
  }
 ],
 "metadata": {
  "kernelspec": {
   "display_name": "Python 3 (ipykernel)",
   "language": "python",
   "name": "python3"
  },
  "language_info": {
   "codemirror_mode": {
    "name": "ipython",
    "version": 3
   },
   "file_extension": ".py",
   "mimetype": "text/x-python",
   "name": "python",
   "nbconvert_exporter": "python",
   "pygments_lexer": "ipython3",
   "version": "3.11.4"
  }
 },
 "nbformat": 4,
 "nbformat_minor": 5
}
