{
 "cells": [
  {
   "cell_type": "markdown",
   "id": "8bd38233",
   "metadata": {},
   "source": [
    "# Automated Solutions for the Challenges"
   ]
  },
  {
   "cell_type": "markdown",
   "id": "1e427199",
   "metadata": {},
   "source": [
    "The main goal of this notebook is to offer automatic solutions for the challenges listed in the \"code_challenge.csv\" file. These solutions will be generated automatically using five different programming languages, showcasing their versatility and applicability. Additionally, the notebook will leverage ChatGPT, an AI language model, to aid in the generation of these automatic solutions.\n",
    "\n",
    "By combining the power of multiple programming languages and the capabilities of ChatGPT, the notebook aims to streamline the process of providing code solutions for a diverse range of challenges. \n",
    "\n",
    "Overall, the notebook seeks to demonstrate the potential of using AI in conjunction with various programming languages to automate code generation for a wide array of challenges, fostering efficiency and innovation in the programming community."
   ]
  },
  {
   "cell_type": "markdown",
   "id": "c60f6f96",
   "metadata": {},
   "source": [
    "![Amidst the branches of the tree of knowledge, a python stands gracefully, savoring a cup of coffee](./code_illustration/python_java.jpg)"
   ]
  },
  {
   "cell_type": "markdown",
   "id": "024db60f",
   "metadata": {},
   "source": [
    "## Top Five Versatile Programming Languages"
   ]
  },
  {
   "cell_type": "markdown",
   "id": "c1226a47",
   "metadata": {},
   "source": [
    "Here are the top 5 most versatile programming languages:\n",
    "\n",
    "1. Python - Python is one of the most popular and versatile languages used today. It's easy to learn and can be used for a wide range of applications like web development, data analysis, artificial intelligence, scientific computing, and more.\n",
    "\n",
    "2. JavaScript - JavaScript is the language of the web. It powers dynamic web pages and web applications and can also be used for game development, mobile apps, servers, IoT devices and more. \n",
    "\n",
    "3. Java - Java is a widely used object-oriented language suitable for a variety of applications like web servers, Big Data analysis, enterprise applications and Android app development. Its portability across platforms is a big plus.\n",
    "\n",
    "4. C# - C# works across multiple platforms like Windows, mobile, and web. It is used for desktop apps, mobile apps, web apps, web services, games, VR, databases, and enterprise software. \n",
    "\n",
    "5. C++ - C++ is a high-performance language used to build systems, drivers, games engines, desktop apps and also has applications in embedded systems. It offers direct hardware manipulation and is highly efficient.\n",
    "\n",
    "Other versatile options are C, Go, Swift, Kotlin, PHP, and Rust but Python, JavaScript, Java, C# and C++ cover the broadest range of application domains and are most widely used in the industry. Their popularity, vast ecosystems and support make them a great choice."
   ]
  },
  {
   "cell_type": "markdown",
   "id": "093e3fa3",
   "metadata": {},
   "source": [
    "##  Loading, Preprocessing, and Displaying CSV Data"
   ]
  },
  {
   "cell_type": "code",
   "execution_count": null,
   "id": "222235de",
   "metadata": {},
   "outputs": [],
   "source": [
    "import pandas as pd\n",
    "from cryptography.fernet import Fernet\n",
    "import os\n",
    "import getpass\n",
    "from cryptography.fernet import Fernet\n",
    "from cryptography.hazmat.primitives import hashes\n",
    "from cryptography.hazmat.primitives.kdf.pbkdf2 import PBKDF2HMAC\n",
    "from cryptography.hazmat.backends import default_backend\n",
    "import os\n",
    "import getpass\n",
    "import base64\n",
    "import requests\n",
    "import openai\n",
    "import time"
   ]
  },
  {
   "cell_type": "code",
   "execution_count": null,
   "id": "49673bbd",
   "metadata": {},
   "outputs": [],
   "source": [
    "df = pd.read_csv('code_challenge.csv', delimiter=';', encoding='latin') \n",
    "\n",
    "# Drop index column\n",
    "df = df.reset_index(drop=True) \n",
    "\n",
    "# Display dataframe again\n",
    "display(df)"
   ]
  },
  {
   "cell_type": "markdown",
   "id": "aa520f8f",
   "metadata": {},
   "source": [
    "## Filtering for Beginner-Level Challenges"
   ]
  },
  {
   "cell_type": "code",
   "execution_count": null,
   "id": "df455e05",
   "metadata": {},
   "outputs": [],
   "source": [
    "beginner_df = df.loc[df['difficulty'] == 'Beginner']\n",
    "len(beginner_df)"
   ]
  },
  {
   "cell_type": "markdown",
   "id": "60be7429",
   "metadata": {},
   "source": [
    "## Encrypting the ChatGPT API into a File"
   ]
  },
  {
   "cell_type": "code",
   "execution_count": null,
   "id": "42bde4c4",
   "metadata": {},
   "outputs": [],
   "source": [
    "# Function to generate a random salt\n",
    "def generate_salt():\n",
    "    return os.urandom(16)\n",
    "\n",
    "def generate_fernet_key(password, salt):\n",
    "    password = password.encode()\n",
    "    kdf = PBKDF2HMAC(\n",
    "        algorithm=hashes.SHA256(),\n",
    "        length=32,\n",
    "        salt=salt,\n",
    "        iterations=100000,\n",
    "        backend=default_backend()\n",
    "    )\n",
    "    key = base64.urlsafe_b64encode(kdf.derive(password))\n",
    "    return key\n",
    "\n",
    "def save_encrypted_api_key():\n",
    "    api_key = input(\"Enter your API key: \")\n",
    "    password = getpass.getpass(\"Enter your password: \")\n",
    "\n",
    "    # Generate a random and secure salt\n",
    "    salt = generate_salt()\n",
    "\n",
    "    # Derive the Fernet key from the password and salt\n",
    "    key = generate_fernet_key(password, salt)\n",
    "\n",
    "    # Encrypt the API key\n",
    "    cipher_suite = Fernet(key)\n",
    "    encrypted_api_key = cipher_suite.encrypt(api_key.encode())\n",
    "\n",
    "    with open(\"api_key.enc\", \"wb\") as file:\n",
    "        file.write(encrypted_api_key)\n",
    "\n",
    "    with open(\"salt.bin\", \"wb\") as file:\n",
    "        file.write(salt)\n",
    "\n",
    "    print(\"API key encrypted and saved successfully.\")\n",
    "    \n",
    "save_encrypted_api_key()"
   ]
  },
  {
   "cell_type": "markdown",
   "id": "4495c529",
   "metadata": {},
   "source": [
    "## Accessing the Encrypted File to Obtain the API Ke"
   ]
  },
  {
   "cell_type": "code",
   "execution_count": null,
   "id": "be725bee",
   "metadata": {},
   "outputs": [],
   "source": [
    "def get_decrypted_api_key(password):\n",
    "    try:\n",
    "        with open(\"api_key.enc\", \"rb\") as file:\n",
    "            encrypted_api_key = file.read()\n",
    "\n",
    "        with open(\"salt.bin\", \"rb\") as file:\n",
    "            salt = file.read()\n",
    "\n",
    "        # Derive the Fernet key from the password and base64-decode the salt\n",
    "        key = generate_fernet_key(password, salt)\n",
    "\n",
    "        cipher_suite = Fernet(key)\n",
    "        decrypted_api_key = cipher_suite.decrypt(encrypted_api_key).decode()\n",
    "\n",
    "        return decrypted_api_key\n",
    "    except FileNotFoundError:\n",
    "        print(\"API key file not found.\")\n",
    "        return None\n",
    "    except Exception as e:\n",
    "        print(\"Error occurred while decrypting the API key:\", str(e))\n",
    "        return None\n",
    "\n",
    "# Prompt user for the password again to decrypt the API key\n",
    "password_for_decryption = getpass.getpass(\"Enter your password to decrypt the API key: \")\n",
    "\n",
    "# Retrieve and decrypt the API key\n",
    "api_key = get_decrypted_api_key(password_for_decryption)"
   ]
  },
  {
   "cell_type": "markdown",
   "id": "01831417",
   "metadata": {},
   "source": [
    "## Generating Python Solutions for Code Challenges Using ChatGPT"
   ]
  },
  {
   "cell_type": "code",
   "execution_count": null,
   "id": "a1544a8d",
   "metadata": {},
   "outputs": [],
   "source": [
    "def generate_python_code(prompt, api_key):\n",
    "    api_url = \"https://api.openai.com/v1/chat/completions\"\n",
    "\n",
    "    headers = {\n",
    "        \"Content-Type\": \"application/json\",\n",
    "        \"Authorization\": f\"Bearer {api_key}\"\n",
    "    }\n",
    "\n",
    "    data = {\n",
    "        \"model\": \"gpt-3.5-turbo\",  # You can choose other models if needed\n",
    "        \"messages\": [\n",
    "            {\"role\": \"system\", \"content\": f\"You are a python programmer. Write a Python program to create a {prompt}. Generate only the python code without any additional comments.\"},\n",
    "            {\"role\": \"user\", \"content\": prompt}\n",
    "        ]\n",
    "    }\n",
    "\n",
    "    response = requests.post(api_url, headers=headers, json=data)\n",
    "\n",
    "    if response.status_code == 200:\n",
    "        return response.json()[\"choices\"][0][\"message\"][\"content\"]\n",
    "    else:\n",
    "        print(f\"Request failed with status code: {response.status_code}\")\n",
    "        return None\n",
    "    \n",
    "    \n",
    "def create_python_file(save_path, file_name, code_string):\n",
    "    try:\n",
    "        file_path = os.path.join(save_path, \"code_challenge_solution\", \"python\", file_name)\n",
    "        os.makedirs(os.path.dirname(file_path), exist_ok=True)\n",
    "\n",
    "        with open(file_path, \"w\",  encoding=\"utf-8\") as file:\n",
    "            file.write(code_string)\n",
    "        print(f\"Python file '{file_name}' created successfully.\")\n",
    "    except Exception as e:\n",
    "        print(f\"An error occurred while creating the file: {file_name}\", str(e))\n",
    "\n",
    "current_path = os.getcwd()\n",
    "for index, row in beginner_df.iterrows():\n",
    "    # Access values of each column for the current row\n",
    "    id_val = row['id']\n",
    "    name_val = row['name']\n",
    "    description_val = row['description']\n",
    "    difficulty_val = row['difficulty']\n",
    "    \n",
    "    code_challenge_row = name_val + ' ' + description_val\n",
    "    code_string = generate_python_code(code_challenge_row, api_key)\n",
    "    file_name = f\"{id_val} {name_val}.py\"\n",
    "    create_python_file(current_path, file_name, code_string)\n",
    "    time.sleep(23)"
   ]
  },
  {
   "cell_type": "markdown",
   "id": "136763b3",
   "metadata": {},
   "source": [
    "## Generating JavaScript Solutions for Code Challenges Using ChatGPT"
   ]
  },
  {
   "cell_type": "code",
   "execution_count": null,
   "id": "2addb146",
   "metadata": {},
   "outputs": [],
   "source": [
    "def generate_javascript_code(prompt, api_key):\n",
    "    api_url = \"https://api.openai.com/v1/chat/completions\"\n",
    "\n",
    "    headers = {\n",
    "        \"Content-Type\": \"application/json\",\n",
    "        \"Authorization\": f\"Bearer {api_key}\"\n",
    "    }\n",
    "\n",
    "    data = {\n",
    "        \"model\": \"gpt-3.5-turbo\",  # You can choose other models if needed\n",
    "        \"messages\": [\n",
    "            {\"role\": \"system\", \"content\": f\"You are a javascript programmer. Write a javascript program to {prompt}. Generate only the javascript code without any additional comments.\"},\n",
    "            {\"role\": \"user\", \"content\": prompt}\n",
    "        ]\n",
    "    }\n",
    "\n",
    "    response = requests.post(api_url, headers=headers, json=data)\n",
    "\n",
    "    if response.status_code == 200:\n",
    "        return response.json()[\"choices\"][0][\"message\"][\"content\"]\n",
    "    else:\n",
    "        print(f\"Request failed with status code: {response.status_code}\")\n",
    "        return None\n",
    "    \n",
    "    \n",
    "def create_javascript_file(save_path, file_name, code_string):\n",
    "    try:\n",
    "        file_path = os.path.join(save_path, \"code_challenge_solution\", \"javascript\", file_name)\n",
    "        os.makedirs(os.path.dirname(file_path), exist_ok=True)\n",
    "\n",
    "        with open(file_path, \"w\",  encoding=\"utf-8\") as file:\n",
    "            file.write(code_string)\n",
    "        print(f\"Javascript file '{file_name}' created successfully.\")\n",
    "    except Exception as e:\n",
    "        print(f\"An error occurred while creating the file: {file_name}\", str(e))\n",
    "\n",
    "current_path = os.getcwd()\n",
    "for index, row in beginner_df.iterrows():\n",
    "    # Access values of each column for the current row\n",
    "    id_val = row['id']\n",
    "    name_val = row['name']\n",
    "    description_val = row['description']\n",
    "    difficulty_val = row['difficulty']\n",
    "    \n",
    "    code_challenge_row = name_val + ' ' + description_val\n",
    "    code_string = generate_javascript_code(code_challenge_row, api_key)\n",
    "    file_name = f\"{id_val} {name_val}.js\"\n",
    "    create_javascript_file(current_path, file_name, code_string)\n",
    "    time.sleep(23)"
   ]
  },
  {
   "cell_type": "markdown",
   "id": "2b0a4c95",
   "metadata": {},
   "source": [
    "## Generating Java Solutions for Code Challenges Using ChatGPT"
   ]
  },
  {
   "cell_type": "code",
   "execution_count": null,
   "id": "c41a598a",
   "metadata": {},
   "outputs": [],
   "source": [
    "def generate_java_code(prompt, api_key):\n",
    "    api_url = \"https://api.openai.com/v1/chat/completions\"\n",
    "\n",
    "    headers = {\n",
    "        \"Content-Type\": \"application/json\",\n",
    "        \"Authorization\": f\"Bearer {api_key}\"\n",
    "    }\n",
    "\n",
    "    data = {\n",
    "        \"model\": \"gpt-3.5-turbo\",  # You can choose other models if needed\n",
    "        \"messages\": [\n",
    "            {\"role\": \"system\", \"content\": f\"You are a javascript programmer. Write a java program to {prompt}. Generate only the javascript code without any additional comments.\"},\n",
    "            {\"role\": \"user\", \"content\": prompt}\n",
    "        ]\n",
    "    }\n",
    "\n",
    "    response = requests.post(api_url, headers=headers, json=data)\n",
    "\n",
    "    if response.status_code == 200:\n",
    "        return response.json()[\"choices\"][0][\"message\"][\"content\"]\n",
    "    else:\n",
    "        print(f\"Request failed with status code: {response.status_code}\")\n",
    "        return None\n",
    "    \n",
    "    \n",
    "def create_java_file(save_path, file_name, code_string):\n",
    "    try:\n",
    "        file_path = os.path.join(save_path, \"code_challenge_solution\", \"java\", file_name)\n",
    "        os.makedirs(os.path.dirname(file_path), exist_ok=True)\n",
    "\n",
    "        with open(file_path, \"w\",  encoding=\"utf-8\") as file:\n",
    "            file.write(code_string)\n",
    "        print(f\"Java file '{file_name}' created successfully.\")\n",
    "    except Exception as e:\n",
    "        print(f\"An error occurred while creating the file: {file_name}\", str(e))\n",
    "\n",
    "current_path = os.getcwd()\n",
    "for index, row in beginner_df.iterrows():\n",
    "    # Access values of each column for the current row\n",
    "    id_val = row['id']\n",
    "    name_val = row['name']\n",
    "    description_val = row['description']\n",
    "    difficulty_val = row['difficulty']\n",
    "    \n",
    "    code_challenge_row = name_val + ' ' + description_val\n",
    "    code_string = generate_java_code(code_challenge_row, api_key)\n",
    "    file_name = f\"{id_val} {name_val}.java\"\n",
    "    create_java_file(current_path, file_name, code_string)\n",
    "    time.sleep(23)"
   ]
  },
  {
   "cell_type": "markdown",
   "id": "9145ac2b",
   "metadata": {},
   "source": [
    "## Generating C# Solutions for Code Challenges Using ChatGPT"
   ]
  },
  {
   "cell_type": "markdown",
   "id": "4a7eeef5",
   "metadata": {},
   "source": [
    "## Generating C++ Solutions for Code Challenges Using ChatGPT"
   ]
  }
 ],
 "metadata": {
  "kernelspec": {
   "display_name": "Python 3 (ipykernel)",
   "language": "python",
   "name": "python3"
  },
  "language_info": {
   "codemirror_mode": {
    "name": "ipython",
    "version": 3
   },
   "file_extension": ".py",
   "mimetype": "text/x-python",
   "name": "python",
   "nbconvert_exporter": "python",
   "pygments_lexer": "ipython3",
   "version": "3.10.9"
  }
 },
 "nbformat": 4,
 "nbformat_minor": 5
}
