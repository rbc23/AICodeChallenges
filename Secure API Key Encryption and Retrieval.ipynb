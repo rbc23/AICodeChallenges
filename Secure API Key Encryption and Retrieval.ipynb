{
 "cells": [
  {
   "cell_type": "markdown",
   "id": "572681e5",
   "metadata": {},
   "source": [
    "# Secure API Key Encryption and Retrieval"
   ]
  },
  {
   "cell_type": "markdown",
   "id": "a71e4364",
   "metadata": {},
   "source": [
    "![A majestic vault of radiant treasures and timeless heirlooms.](./code_illustration/encryption_retrieval.jpg)"
   ]
  },
  {
   "cell_type": "markdown",
   "id": "37d8919d",
   "metadata": {},
   "source": [
    "This notebook aims to securely encrypt and store an API key using a user-provided password. Initially, the user is prompted to input their API key and a password. A unique encryption key is then derived from the password using a random salt and the PBKDF2HMAC method. The API key is encrypted using this derived key and saved to disk. Subsequently, the script offers functionality to decrypt and retrieve the original API key, requiring the user to provide the same password used for encryption. This method ensures the API key's secure storage, protecting it from unauthorized access."
   ]
  },
  {
   "cell_type": "code",
   "execution_count": null,
   "id": "bc793886",
   "metadata": {},
   "outputs": [],
   "source": [
    "import os\n",
    "import pandas as pd\n",
    "import openai\n",
    "import getpass\n",
    "import base64\n",
    "import time\n",
    "from cryptography.fernet import Fernet\n",
    "from cryptography.hazmat.primitives import hashes\n",
    "from cryptography.hazmat.primitives.kdf.pbkdf2 import PBKDF2HMAC\n",
    "from cryptography.hazmat.backends import default_backend"
   ]
  },
  {
   "cell_type": "code",
   "execution_count": null,
   "id": "0edd684a",
   "metadata": {},
   "outputs": [],
   "source": [
    "# Function to generate a random salt\n",
    "def generate_salt():\n",
    "    return os.urandom(16)\n",
    "\n",
    "def generate_fernet_key(password, salt):\n",
    "    password = password.encode()\n",
    "    kdf = PBKDF2HMAC(\n",
    "        algorithm=hashes.SHA256(),\n",
    "        length=32,\n",
    "        salt=salt,\n",
    "        iterations=100000,\n",
    "        backend=default_backend()\n",
    "    )\n",
    "    key = base64.urlsafe_b64encode(kdf.derive(password))\n",
    "    return key\n",
    "\n",
    "def save_encrypted_api_key():\n",
    "    api_key = input(\"Enter your API key: \")\n",
    "    password = getpass.getpass(\"Enter your password: \")\n",
    "\n",
    "    # Generate a random and secure salt\n",
    "    salt = generate_salt()\n",
    "\n",
    "    # Derive the Fernet key from the password and salt\n",
    "    key = generate_fernet_key(password, salt)\n",
    "\n",
    "    # Encrypt the API key\n",
    "    cipher_suite = Fernet(key)\n",
    "    encrypted_api_key = cipher_suite.encrypt(api_key.encode())\n",
    "\n",
    "    with open(\"api_key.enc\", \"wb\") as file:\n",
    "        file.write(encrypted_api_key)\n",
    "\n",
    "    with open(\"salt.bin\", \"wb\") as file:\n",
    "        file.write(salt)\n",
    "\n",
    "    print(\"API key encrypted and saved successfully.\")\n",
    "    \n",
    "def get_decrypted_api_key(password):\n",
    "    try:\n",
    "        with open(\"api_key.enc\", \"rb\") as file:\n",
    "            encrypted_api_key = file.read()\n",
    "\n",
    "        with open(\"salt.bin\", \"rb\") as file:\n",
    "            salt = file.read()\n",
    "\n",
    "        # Derive the Fernet key from the password and base64-decode the salt\n",
    "        key = generate_fernet_key(password, salt)\n",
    "\n",
    "        cipher_suite = Fernet(key)\n",
    "        decrypted_api_key = cipher_suite.decrypt(encrypted_api_key).decode()\n",
    "\n",
    "        return decrypted_api_key\n",
    "    except FileNotFoundError:\n",
    "        print(\"API key file not found.\")\n",
    "        return None\n",
    "    except Exception as e:\n",
    "        print(\"Error occurred while decrypting the API key:\", str(e))\n",
    "        return None\n",
    "\n"
   ]
  },
  {
   "cell_type": "code",
   "execution_count": null,
   "id": "d24c845f",
   "metadata": {},
   "outputs": [],
   "source": [
    "#save_encrypted_api_key()"
   ]
  },
  {
   "cell_type": "code",
   "execution_count": null,
   "id": "3de7a3f3",
   "metadata": {},
   "outputs": [],
   "source": [
    "# Prompt user for the password again to decrypt the API key\n",
    "#password_for_decryption = getpass.getpass(\"Enter your password to decrypt the API key: \")\n",
    "\n",
    "# Retrieve and decrypt the API key\n",
    "#api_key = get_decrypted_api_key(password_for_decryption)"
   ]
  }
 ],
 "metadata": {
  "kernelspec": {
   "display_name": "Python 3 (ipykernel)",
   "language": "python",
   "name": "python3"
  },
  "language_info": {
   "codemirror_mode": {
    "name": "ipython",
    "version": 3
   },
   "file_extension": ".py",
   "mimetype": "text/x-python",
   "name": "python",
   "nbconvert_exporter": "python",
   "pygments_lexer": "ipython3",
   "version": "3.11.4"
  }
 },
 "nbformat": 4,
 "nbformat_minor": 5
}
